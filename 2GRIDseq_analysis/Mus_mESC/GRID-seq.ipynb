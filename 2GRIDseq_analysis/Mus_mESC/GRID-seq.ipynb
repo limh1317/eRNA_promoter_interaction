{
 "cells": [
  {
   "cell_type": "markdown",
   "id": "e5542896-9171-4101-947e-49b6b73817a2",
   "metadata": {},
   "source": [
    "# align DNA part with promoter and RNA part with eRNA. \n",
    "<p>In this part, the eRNA-promoter interaction is defined by GRID-seq<p>"
   ]
  },
  {
   "cell_type": "code",
   "execution_count": 417,
   "id": "89e21006-1258-40c7-a5e6-8d50748ae2da",
   "metadata": {},
   "outputs": [],
   "source": [
    "import pandas as pd\n",
    "import subprocess\n",
    "import os\n",
    "pd.set_option('display.max_columns', 200)\n",
    "import pyBigWig\n",
    "import numpy as np\n",
    "import seaborn as sns\n",
    "import matplotlib.pyplot as plt\n",
    "from collections import defaultdict as ddict"
   ]
  },
  {
   "cell_type": "code",
   "execution_count": 122,
   "id": "3f143c21-2e89-4c30-b9cb-0801681f8af6",
   "metadata": {},
   "outputs": [],
   "source": [
    "# # Convert the GRID-seq bam to bed\n",
    "# bam_list = ['mESC_r1_dna_sort_rmdup.bam', 'mESC_r2_dna_sort_rmdup.bam', 'mESC_r1_rna_sort_rmdup.bam', 'mESC_r2_rna_sort_rmdup.bam']\n",
    "# for bamfile in bam_list:\n",
    "#     cmd = f\"bedtools bamtobed -i {bamfile} > {bamfile.replace('.bam', '.bed')}\"\n",
    "#     subprocess.run(cmd, shell=True)\n",
    "\n",
    "# # Filter the r1 unpaired reads\n",
    "# df_dna = pd.read_csv('mESC_r1_dna_sort_rmdup.bed', sep='\\t', header=None)\n",
    "# df_rna = pd.read_csv('mESC_r1_rna_sort_rmdup.bed', sep='\\t', header=None)\n",
    "# dna_index = df_dna[3].str.split('.').str[1]          # the read index in dna part bam\n",
    "# df_dna['index'] = dna_index\n",
    "# rna_index = df_rna[3].str.split('.').str[1]          # the read index in rna part bam\n",
    "# df_rna['index'] = rna_index\n",
    "# dna_index_set = set(dna_index.to_list())\n",
    "# rna_index_set = set(rna_index.to_list())\n",
    "# index_set = dna_index_set & rna_index_set            # get the read index in both dna part and rna part\n",
    "# df_dna = df_dna[df_dna['index'].isin(index_set)]\n",
    "# df_rna = df_rna[df_rna['index'].isin(index_set)]\n",
    "# df_dna.to_csv('mESC_r1_dna_sort_rmdup_filter.bed', sep='\\t', header=None, index=None)     # filter out unpaired reads\n",
    "# df_rna.to_csv('mESC_r1_rna_sort_rmdup_filter.bed', sep='\\t', header=None, index=None)\n",
    "\n",
    "# # Filter the r2 unpaired reads\n",
    "# df_dna = pd.read_csv('mESC_r2_dna_sort_rmdup.bed', sep='\\t', header=None)\n",
    "# df_rna = pd.read_csv('mESC_r2_rna_sort_rmdup.bed', sep='\\t', header=None)\n",
    "\n",
    "# dna_index = df_dna[3].str.split('.').str[1]\n",
    "# df_dna['index'] = dna_index\n",
    "# rna_index = df_rna[3].str.split('.').str[1]\n",
    "# df_rna['index'] = rna_index\n",
    "\n",
    "\n",
    "# dna_index_set = set(dna_index.to_list())\n",
    "# rna_index_set = set(rna_index.to_list())\n",
    "# index_set = dna_index_set & rna_index_set\n",
    "# df_dna = df_dna[df_dna['index'].isin(index_set)]\n",
    "# df_rna = df_rna[df_rna['index'].isin(index_set)]\n",
    "# df_dna.to_csv('mESC_r2_dna_sort_rmdup_filter.bed', sep='\\t', header=None, index=None)\n",
    "# df_rna.to_csv('mESC_r2_rna_sort_rmdup_filter.bed', sep='\\t', header=None, index=None)"
   ]
  },
  {
   "cell_type": "code",
   "execution_count": 418,
   "id": "555aa3fe-3ffc-4ac5-a88f-bec200b84f5d",
   "metadata": {},
   "outputs": [],
   "source": [
    "# Get the GRID-seq dna reads which lies in the promoter region, the result bed is: dna_sort_rmdup_filter_promoter_intersectWo.bed\n",
    "bamfiles = [x for x in os.listdir() if x.endswith('dna_sort_rmdup_filter.bed')]\n",
    "for bamfile in bamfiles:\n",
    "    cmd = f\"bedtools intersect -a {bamfile} -b promoter.bed -wo > {bamfile.replace('.bed', '_promoter_intersectWo.bed')}\"\n",
    "    subprocess.run(cmd, shell=True)\n",
    "    \n",
    "# Get the GRID-seq rna reads which lies in the eRNA region, the result bed is: rna_sort_rmdup_filter_eRNA_intersectWo.bed\n",
    "bamfiles = [x for x in os.listdir() if x.endswith('rna_sort_rmdup_filter.bed')]\n",
    "for bamfile in bamfiles:\n",
    "    cmd = f\"bedtools intersect -a {bamfile} -b eRNA.bed -wo >  {bamfile.replace('.bed', '_eRNA_intersectWo.bed')}\"\n",
    "    subprocess.run(cmd, shell=True)"
   ]
  },
  {
   "cell_type": "code",
   "execution_count": 419,
   "id": "b1be4965-d42a-46ca-b0cf-72bef22f447c",
   "metadata": {},
   "outputs": [],
   "source": [
    "# Get the GRID-seq reads that dna part in promoter region, rna part in eRNA region, the result is df_combine\n",
    "file_dna = 'mESC_r1_dna_sort_rmdup_filter_promoter_intersectWo.bed'\n",
    "df_dna = pd.read_csv(file_dna, sep='\\t', header=None)\n",
    "df_dna.columns = ['G_chr_p', 'G_start_p', 'G_stop_p', 'G_name_p', 'G_score_p', 'G_strand_p', 'G_index', 'p_chr', 'p_start', 'p_stop', 'ep_name_p', 'p_score', 'p_strand', 'intersection_length_p']\n",
    "file_rna = 'mESC_r1_rna_sort_rmdup_filter_eRNA_intersectWo.bed'\n",
    "df_rna = pd.read_csv(file_rna, sep='\\t', header=None)\n",
    "df_rna.columns = ['G_chr_e', 'G_start_e', 'G_stop_e', 'G_name_e', 'G_score_e', 'G_strand_e', 'G_index', 'e_chr', 'e_start', 'e_stop', 'ep_name_e', 'e_score', 'e_strand', 'intersection_length_e']\n",
    "df_comebine = pd.merge(df_dna, df_rna, on=['G_index'], how='inner')    # df_comebine is the GRID-seq reads, together with the conected e, p\n",
    "# df_comebine_r1 = df_comebine[df_comebine['ep_name_e']==df_comebine['ep_name_p']]   # if only want the e and p in constructed epi, use this\n",
    "df_comebine_r1 = df_comebine\n",
    "\n",
    "file_dna = 'mESC_r2_dna_sort_rmdup_filter_promoter_intersectWo.bed'\n",
    "df_dna = pd.read_csv(file_dna, sep='\\t', header=None)\n",
    "df_dna.columns = ['G_chr_p', 'G_start_p', 'G_stop_p', 'G_name_p', 'G_score_p', 'G_strand_p', 'G_index', 'p_chr', 'p_start', 'p_stop', 'ep_name_p', 'p_score', 'p_strand', 'intersection_length_p']\n",
    "file_rna = 'mESC_r2_rna_sort_rmdup_filter_eRNA_intersectWo.bed'\n",
    "df_rna = pd.read_csv(file_rna, sep='\\t', header=None)\n",
    "df_rna.columns = ['G_chr_e', 'G_start_e', 'G_stop_e', 'G_name_e', 'G_score_e', 'G_strand_e', 'G_index', 'e_chr', 'e_start', 'e_stop', 'ep_name_e', 'e_score', 'e_strand', 'intersection_length_e']\n",
    "df_comebine = pd.merge(df_dna, df_rna, on=['G_index'], how='inner')\n",
    "# df_comebine_r2 = df_comebine[df_comebine['ep_name_e']==df_comebine['ep_name_p']]\n",
    "df_comebine_r2 = df_comebine\n",
    "\n",
    "df_combine = pd.concat([df_comebine_r1, df_comebine_r2], axis=0)"
   ]
  },
  {
   "cell_type": "code",
   "execution_count": null,
   "id": "89de040e-dd0e-4037-a6d3-6b154a80b52e",
   "metadata": {},
   "outputs": [],
   "source": []
  },
  {
   "cell_type": "code",
   "execution_count": 427,
   "id": "a96b1264-2f8f-4e39-aacb-daf4a848383d",
   "metadata": {},
   "outputs": [
    {
     "data": {
      "text/plain": [
       "CompletedProcess(args='bedtools intersect -a eRNA.bed -b mm10.SINE.withpPolyaLength_newMethod2.bed -wo -f 0.8 -F 0.8 -e > eRNA_TE_intersectWo.txt', returncode=0)"
      ]
     },
     "execution_count": 427,
     "metadata": {},
     "output_type": "execute_result"
    }
   ],
   "source": [
    "# get the intersection between eRNA and TE\n",
    "cmd = \"bedtools intersect -a eRNA.bed -b mm10.SINE.withpPolyaLength_newMethod2.bed -wo -f 0.8 -F 0.8 -e > eRNA_TE_intersectWo.txt\"\n",
    "subprocess.run(cmd, shell=True)"
   ]
  },
  {
   "cell_type": "code",
   "execution_count": 558,
   "id": "44773d78-552b-43de-94c6-a97c1b190d6c",
   "metadata": {},
   "outputs": [],
   "source": [
    "# combine the df_comebine with te\n",
    "df_1 = pd.read_csv('eRNA_TE_intersectWo.txt', sep='\\t', header=None)\n",
    "df_1 = df_1[[0,1,2,6,7,8,9,12]]\n",
    "df_1.columns = ['e_chr', 'e_start', 'e_stop', 'e_SINE_chr', 'e_SINE_start', 'e_SINE_stop', 'e_SINE_name', 'e_SINE_family']"
   ]
  },
  {
   "cell_type": "code",
   "execution_count": 559,
   "id": "30e2ad1a-0362-484f-86a4-7287b651a0e4",
   "metadata": {},
   "outputs": [],
   "source": [
    "df_combine_eRNA = pd.merge(df_combine, df_1, on = ['e_chr', 'e_start', 'e_stop'])"
   ]
  },
  {
   "cell_type": "code",
   "execution_count": 560,
   "id": "bd694065-a11f-4980-94ff-e2f0288af736",
   "metadata": {},
   "outputs": [],
   "source": [
    "# Get the in-cis eRNA promoter interaction, get the GRID-seq reads that eRNA and GRID-seq rna part on the same strand\n",
    "# df_combine_eRNA_filter = df_combine_eRNA[(df_combine_eRNA['G_chr_p']==df_combine_eRNA['G_chr_e']) & (df_combine_eRNA['G_strand_e']==df_combine_eRNA['e_strand'])].copy()\n",
    "df_combine_eRNA_filter = df_combine_eRNA[(df_combine_eRNA['G_strand_e']==df_combine_eRNA['e_strand'])].copy()"
   ]
  },
  {
   "cell_type": "code",
   "execution_count": 561,
   "id": "61ad1fda-413b-499e-8625-708c9f3950e1",
   "metadata": {},
   "outputs": [],
   "source": [
    "def getBin(row):\n",
    "    if row['G_start_e'] > row['e_SINE_start'] and row['G_stop_e'] < row['e_SINE_stop']:\n",
    "        return 0\n",
    "    binsize = row['e_SINE_stop'] - row['e_SINE_start']\n",
    "    if row['G_start_e'] < row['e_SINE_start']:\n",
    "        return np.ceil((row['SINE_median'] - row['G_median']) / binsize) * row['strand']\n",
    "    elif row['G_stop_e'] > row['e_SINE_stop']:\n",
    "        return np.floor((row['SINE_median'] - row['G_median']) / binsize) * row['strand']"
   ]
  },
  {
   "cell_type": "code",
   "execution_count": 562,
   "id": "d3ac0aa1-061a-4721-82fb-be37ff564e49",
   "metadata": {},
   "outputs": [],
   "source": [
    "df_combine_eRNA_filter['SINE_median'] = np.round((df_combine_eRNA_filter['e_SINE_start'] + df_combine_eRNA_filter['e_SINE_stop']) / 2).astype(int)\n",
    "df_combine_eRNA_filter['G_median'] = np.round((df_combine_eRNA_filter['G_start_e'] + df_combine_eRNA_filter['G_stop_e']) / 2).astype(int)\n",
    "df_combine_eRNA_filter['distance'] = df_combine_eRNA_filter['SINE_median'] - df_combine_eRNA_filter['G_median']"
   ]
  },
  {
   "cell_type": "code",
   "execution_count": 563,
   "id": "5c981eb5-3254-43ec-91f7-34bd73a65d1b",
   "metadata": {},
   "outputs": [],
   "source": [
    "# calculate mappability\n",
    "bw = pyBigWig.open('/home/limh/GRIDseq/Mus/1/mappability/mm10_20.bw', 'r')\n",
    "def get_mappability(row):\n",
    "    return bw.values(row['G_chr_e'], row['G_start_e'], row['G_stop_e']+1, numpy=True).mean()\n",
    "    # return bw.values(row[0], row['G_median'], row['G_median']+1, numpy=True).mean()\n",
    "\n",
    "df_combine_eRNA_filter['mappability'] = df_combine_eRNA_filter.apply(get_mappability, axis=1)\n",
    "df_combine_eRNA_filter['score_normalized'] = 1 / df_combine_eRNA_filter['mappability']\n",
    "df_combine_eRNA_filter['score_normalized'] = np.log(df_combine_eRNA_filter['score_normalized'] + 1)\n",
    "# df_combine_eRNA_filter['score_normalized'] = 1"
   ]
  },
  {
   "cell_type": "code",
   "execution_count": 564,
   "id": "17de1666-26fd-4340-99c4-4c1c625bf09c",
   "metadata": {},
   "outputs": [],
   "source": [
    "df_combine_eRNA_filter['strand'] = df_combine_eRNA_filter.apply(lambda x: 1 if x['G_strand_e'] == '+' else -1, axis=1)"
   ]
  },
  {
   "cell_type": "code",
   "execution_count": 500,
   "id": "5e194d4f-6b71-4b6c-90a8-2c00490a1812",
   "metadata": {},
   "outputs": [
    {
     "data": {
      "text/plain": [
       "<AxesSubplot:ylabel='0'>"
      ]
     },
     "execution_count": 500,
     "metadata": {},
     "output_type": "execute_result"
    },
    {
     "data": {
      "image/png": "[encoded data removed]",
      "text/plain": [
       "<Figure size 432x288 with 1 Axes>"
      ]
     },
     "metadata": {
      "needs_background": "light"
     },
     "output_type": "display_data"
    }
   ],
   "source": [
    "# Plot_method1\n",
    "bin_size = 100\n",
    "\n",
    "dis_max = (sine_df['distance'] * sine_df['strand']).max()\n",
    "dis_min = (sine_df['distance'] * sine_df['strand']).min()\n",
    "\n",
    "bin_max = np.ceil(dis_max // bin_size)\n",
    "bin_min = np.floor(dis_min // bin_size)\n",
    "\n",
    "bin_reads_dict = ddict(float)\n",
    "\n",
    "    \n",
    "for i,j,k in sine_df[['score_normalized', 'distance', 'strand']].values:\n",
    "    bin = int(np.round((j * k) //bin_size))\n",
    "    bin_reads_dict[bin] += i\n",
    "    \n",
    "for i in range(int(bin_min), int(bin_max)+1):\n",
    "    bin_reads_dict[i] += 0\n",
    "    \n",
    "\n",
    "exp_df = pd.DataFrame({int(k):[v] for k,v in bin_reads_dict.items()}).T\n",
    "\n",
    "sns.lineplot(data=exp_df,  x=exp_df.index, y=exp_df[0], label='RNA reads', linewidth=4)\n",
    "\n",
    "# plt.xlim(-50//bin_size, 50//bin_size)"
   ]
  },
  {
   "cell_type": "code",
   "execution_count": 598,
   "id": "9f158792-bee8-4c7f-86a9-b7a956c91c30",
   "metadata": {},
   "outputs": [],
   "source": [
    "# plot_method2\n",
    "df_combine_eRNA_filter['bin'] = df_combine_eRNA_filter.apply(getBin, axis=1)\n",
    "sine_df = df_combine_eRNA_filter[df_combine_eRNA_filter['e_SINE_family']=='SINE/ID']"
   ]
  },
  {
   "cell_type": "code",
   "execution_count": 599,
   "id": "5ee3d7da-ba58-4d50-b88f-b8c28c0c9608",
   "metadata": {},
   "outputs": [
    {
     "data": {
      "text/plain": [
       "(-10.0, 9.0)"
      ]
     },
     "execution_count": 599,
     "metadata": {},
     "output_type": "execute_result"
    },
    {
     "data": {
      "image/png": "[encoded data removed]",
      "text/plain": [
       "<Figure size 432x288 with 1 Axes>"
      ]
     },
     "metadata": {
      "needs_background": "light"
     },
     "output_type": "display_data"
    }
   ],
   "source": [
    "bin_reads_dict = ddict(float)\n",
    "    \n",
    "for i,j in sine_df[['score_normalized', 'bin']].values:\n",
    "    bin = j\n",
    "    bin_reads_dict[bin] += i\n",
    "    \n",
    "bin_min = sine_df['bin'].min()\n",
    "bin_max = sine_df['bin'].max()\n",
    "\n",
    "for i in range(int(bin_min), int(bin_max)+1):\n",
    "    bin_reads_dict[i] += 0\n",
    "    \n",
    "\n",
    "exp_df = pd.DataFrame({int(k):[v] for k,v in bin_reads_dict.items()}).T\n",
    "\n",
    "sns.lineplot(data=exp_df,  x=exp_df.index, y=exp_df[0], label='RNA reads', linewidth=4)\n",
    "\n",
    "plt.xlim(max(-10, bin_min), min(10, bin_max))"
   ]
  },
  {
   "cell_type": "code",
   "execution_count": 580,
   "id": "60e21326-9138-4e78-b9a0-72033818686e",
   "metadata": {},
   "outputs": [
    {
     "data": {
      "text/html": [
       "<div>\n",
       "<style scoped>\n",
       "    .dataframe tbody tr th:only-of-type {\n",
       "        vertical-align: middle;\n",
       "    }\n",
       "\n",
       "    .dataframe tbody tr th {\n",
       "        vertical-align: top;\n",
       "    }\n",
       "\n",
       "    .dataframe thead th {\n",
       "        text-align: right;\n",
       "    }\n",
       "</style>\n",
       "<table border=\"1\" class=\"dataframe\">\n",
       "  <thead>\n",
       "    <tr style=\"text-align: right;\">\n",
       "      <th></th>\n",
       "      <th>0</th>\n",
       "    </tr>\n",
       "  </thead>\n",
       "  <tbody>\n",
       "    <tr>\n",
       "      <th>4</th>\n",
       "      <td>3.577212</td>\n",
       "    </tr>\n",
       "    <tr>\n",
       "      <th>0</th>\n",
       "      <td>1.386294</td>\n",
       "    </tr>\n",
       "    <tr>\n",
       "      <th>-3</th>\n",
       "      <td>1.386294</td>\n",
       "    </tr>\n",
       "    <tr>\n",
       "      <th>2</th>\n",
       "      <td>0.693147</td>\n",
       "    </tr>\n",
       "    <tr>\n",
       "      <th>7</th>\n",
       "      <td>1.386294</td>\n",
       "    </tr>\n",
       "    <tr>\n",
       "      <th>-1</th>\n",
       "      <td>2.079442</td>\n",
       "    </tr>\n",
       "    <tr>\n",
       "      <th>-2</th>\n",
       "      <td>0.741937</td>\n",
       "    </tr>\n",
       "    <tr>\n",
       "      <th>-4</th>\n",
       "      <td>0.693147</td>\n",
       "    </tr>\n",
       "    <tr>\n",
       "      <th>3</th>\n",
       "      <td>0.693147</td>\n",
       "    </tr>\n",
       "    <tr>\n",
       "      <th>1</th>\n",
       "      <td>0.693147</td>\n",
       "    </tr>\n",
       "    <tr>\n",
       "      <th>-6</th>\n",
       "      <td>0.693147</td>\n",
       "    </tr>\n",
       "    <tr>\n",
       "      <th>-5</th>\n",
       "      <td>0.000000</td>\n",
       "    </tr>\n",
       "    <tr>\n",
       "      <th>5</th>\n",
       "      <td>0.000000</td>\n",
       "    </tr>\n",
       "    <tr>\n",
       "      <th>6</th>\n",
       "      <td>0.000000</td>\n",
       "    </tr>\n",
       "  </tbody>\n",
       "</table>\n",
       "</div>"
      ],
      "text/plain": [
       "           0\n",
       " 4  3.577212\n",
       " 0  1.386294\n",
       "-3  1.386294\n",
       " 2  0.693147\n",
       " 7  1.386294\n",
       "-1  2.079442\n",
       "-2  0.741937\n",
       "-4  0.693147\n",
       " 3  0.693147\n",
       " 1  0.693147\n",
       "-6  0.693147\n",
       "-5  0.000000\n",
       " 5  0.000000\n",
       " 6  0.000000"
      ]
     },
     "execution_count": 580,
     "metadata": {},
     "output_type": "execute_result"
    }
   ],
   "source": [
    "exp_df"
   ]
  },
  {
   "cell_type": "code",
   "execution_count": null,
   "id": "dbeea06d-f062-4918-a097-f91f8f350961",
   "metadata": {},
   "outputs": [],
   "source": []
  },
  {
   "cell_type": "markdown",
   "id": "a6d8dfe0-e0e1-46be-bfef-46d73c0fa593",
   "metadata": {},
   "source": [
    "# MISC"
   ]
  },
  {
   "cell_type": "code",
   "execution_count": 484,
   "id": "6ff13352-5ed4-4fd3-b921-f9357c35bca9",
   "metadata": {},
   "outputs": [],
   "source": [
    "# RIC-seq analysis way\n",
    "df = df_combine[['G_chr_e', 'G_start_e', 'G_stop_e', 'G_name_e', 'G_score_e', 'G_strand_e']].copy()"
   ]
  },
  {
   "cell_type": "code",
   "execution_count": 486,
   "id": "434eb6ca-800a-4582-b8ce-ad32fff8de01",
   "metadata": {},
   "outputs": [],
   "source": [
    "# df[[4,5]] record the bin region of each reads\n",
    "df[4] = np.floor((df['G_start_e'] + df['G_stop_e']) / 2) - 100\n",
    "df[5] = np.floor((df['G_start_e'] + df['G_stop_e']) / 2) + 100\n",
    "df[[4,5]] = df[[4,5]].astype(int)\n",
    "\n",
    "\n",
    "# Record the bin of each reads as bed file\n",
    "df[['G_chr_e',4,5,'G_name_e', 'G_score_e', 'G_strand_e']].to_csv('mESC_enhancer_0.bed', sep='\\t', header=None, index=None)\n",
    "\n",
    "# Record the flank bin file of each reads\n",
    "for i in range(-9, 10):\n",
    "    if i == 0:\n",
    "        continue\n",
    "    df[8] = df.apply(lambda x: x[4] - 200 * i if x['G_strand_e']=='-' else x[5] + 200 * (i-1), axis=1)\n",
    "    df[9] = df.apply(lambda x: x[4] - 200 * (i-1) if x['G_strand_e']=='-' else x[5] + 200 * i, axis=1)\n",
    "    outfile = f\"mESC_enhancer_{i}.bed\"\n",
    "    df[['G_chr_e',8,9, 'G_name_e', 'G_score_e', 'G_strand_e']].to_csv(outfile, sep='\\t', header=None, index=None)\n",
    "\n",
    "# For each bin file, get the intersection number with transposon\n",
    "for i in range(-9, 10):\n",
    "    for te in ['B1', 'B2', 'B4', 'ID', 'MIR']:\n",
    "        file = f\"mESC_enhancer_{i}.bed\"\n",
    "        transposon_file = f'mm10.{te}.bed'\n",
    "        outfile = f\"mESC_enhancer_{i}_{te}_intersect.txt\"\n",
    "        cmd = f\"bedtools intersect -a {file} -b {transposon_file} -u -f 0.6 -F 0.6 -e > {outfile}\"\n",
    "        subprocess.run(cmd, shell=True)"
   ]
  },
  {
   "cell_type": "code",
   "execution_count": 488,
   "id": "38daa22f-3e97-4d0f-9d64-55b7e5c633b9",
   "metadata": {},
   "outputs": [],
   "source": [
    "ratio_dict = dict()\n",
    "for te in ['B1', 'B2', 'B4', 'ID', 'MIR']:\n",
    "    ratio_dict[te] = dict()\n",
    "    for i in range(-9, 10):\n",
    "        file = f\"mESC_enhancer_{i}_{te}_intersect.txt\"\n",
    "        with open(file, 'r') as infile:\n",
    "            num = len(infile.readlines())\n",
    "        all_num = 2190\n",
    "        ratio = num / all_num\n",
    "        ratio_dict[te][i] = [ratio]"
   ]
  },
  {
   "cell_type": "code",
   "execution_count": 498,
   "id": "83c2e717-a98b-401a-a7b7-368c7ecd6c4a",
   "metadata": {},
   "outputs": [
    {
     "data": {
      "image/png": "[encoded data removed]",
      "text/plain": [
       "<Figure size 432x288 with 1 Axes>"
      ]
     },
     "metadata": {
      "needs_background": "light"
     },
     "output_type": "display_data"
    }
   ],
   "source": [
    "df = pd.DataFrame.from_dict(ratio_dict['B1']).T\n",
    "fig = sns.lineplot(data=df,  x=df.index, y=df[0], label='RNA reads', linewidth=4)\n",
    "# plt.xlim((-5, 5))\n",
    "# plt.ylim((0.03, 0.06))"
   ]
  },
  {
   "cell_type": "code",
   "execution_count": null,
   "id": "56b80673-bf2f-4be5-abf2-bad1329e4bc2",
   "metadata": {},
   "outputs": [],
   "source": []
  },
  {
   "cell_type": "code",
   "execution_count": null,
   "id": "39c6f78b-7287-4bba-8eda-5b699deb3baa",
   "metadata": {},
   "outputs": [],
   "source": [
    "# RIC-seq analysis way\n",
    "df = df_combine[['G_chr_e', 'G_start_e', 'G_stop_e', 'G_name_e', 'G_score_e', 'G_strand_e']].copy()"
   ]
  }
 ],
 "metadata": {
  "kernelspec": {
   "display_name": "Python [conda env:jupyter] *",
   "language": "python",
   "name": "conda-env-jupyter-py"
  },
  "language_info": {
   "codemirror_mode": {
    "name": "ipython",
    "version": 3
   },
   "file_extension": ".py",
   "mimetype": "text/x-python",
   "name": "python",
   "nbconvert_exporter": "python",
   "pygments_lexer": "ipython3",
   "version": "3.10.6"
  }
 },
 "nbformat": 4,
 "nbformat_minor": 5
}
